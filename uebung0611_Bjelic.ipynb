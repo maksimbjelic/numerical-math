{
 "cells": [
  {
   "cell_type": "code",
   "execution_count": 3,
   "id": "cbd8b7b3-77e0-4dd7-9af7-fe89e4b4b62e",
   "metadata": {},
   "outputs": [],
   "source": [
    "import math\n",
    "import numpy as np\n",
    "import time"
   ]
  },
  {
   "cell_type": "markdown",
   "id": "935934f4-e25c-4670-a975-f4cec1ce9fb3",
   "metadata": {},
   "source": [
    "# 5 #"
   ]
  },
  {
   "cell_type": "code",
   "execution_count": 4,
   "id": "c32ccbe6-5b0a-46ab-bd6b-c3ca2ef91305",
   "metadata": {},
   "outputs": [],
   "source": [
    "U = np.array([[1, 2, 6, -1],\n",
    "             [0, 3, 1, 0],\n",
    "             [0, 0, 4, -1],\n",
    "             [0, 0, 0, 2]])\n",
    "b = np.array([-1, -3, -2, 4])"
   ]
  },
  {
   "cell_type": "code",
   "execution_count": 5,
   "id": "e32b325b-23f3-4e5a-a5f0-e31582affb49",
   "metadata": {},
   "outputs": [],
   "source": [
    "def upper(U, b, tol=1e-8):\n",
    "    n, m = U.shape\n",
    "    if n != m or n != b.shape[0]:\n",
    "        raise TypeError('Matrix and vector dimensions do not match')\n",
    "\n",
    "    x = np.zeros(n)\n",
    "    for i in range(n - 1, -1, -1):\n",
    "        if abs(U[i, i]) < tol:\n",
    "            raise ValueError('Pivot < tolerance')\n",
    "        x[i] = (b[i] - sum(U[i, i + 1:] * x[i + 1:])) / U[i, i]\n",
    "    return x"
   ]
  },
  {
   "cell_type": "code",
   "execution_count": 8,
   "id": "d061a384-76ea-4b25-ae23-30caf9ba0fc2",
   "metadata": {},
   "outputs": [],
   "source": [
    "def upper2(U, b, tol=1e-8):\n",
    "    n, m = U.shape\n",
    "    if n != m or n != b.shape[0]:\n",
    "        raise TypeError('Matrix and vector dimensions do not match')\n",
    "\n",
    "    x = np.zeros(n)\n",
    "    for i in range(n - 1, -1, -1):\n",
    "        if abs(U[i, i]) < tol:\n",
    "            raise ValueError('Pivot < tolerance')\n",
    "        x[i] = (b[i] - np.dot(U[i, i + 1:], x[i + 1:])) / U[i, i]\n",
    "    return x"
   ]
  },
  {
   "cell_type": "code",
   "execution_count": 9,
   "id": "c31fcb69-1302-43d3-a143-41b091578c5a",
   "metadata": {},
   "outputs": [
    {
     "data": {
      "text/plain": [
       "(array([ 3., -1.,  0.,  2.]), array([-1., -3., -2.,  4.]))"
      ]
     },
     "execution_count": 9,
     "metadata": {},
     "output_type": "execute_result"
    }
   ],
   "source": [
    "x = upper2(U, b)\n",
    "x, U @ x"
   ]
  },
  {
   "cell_type": "code",
   "execution_count": 6,
   "id": "82cf8f16-8e5a-4471-bbe3-b4c11945fbda",
   "metadata": {},
   "outputs": [
    {
     "name": "stdout",
     "output_type": "stream",
     "text": [
      "100: 0.0006403923034667969s\n",
      "200: 0.0015716552734375s\n",
      "400: 0.0052716732025146484s\n",
      "800: 0.019866228103637695s\n"
     ]
    }
   ],
   "source": [
    "sizes = [100, 200, 400, 800]\n",
    "\n",
    "for n in sizes:\n",
    "    rU = np.triu(np.random.uniform(-10, 10, (n, n)))\n",
    "    rb = np.random.uniform(-10, 10, n)\n",
    "\n",
    "    start = time.time()\n",
    "    upper(rU, rb)\n",
    "    end = time.time()\n",
    "\n",
    "    print(f'{n}: {end - start}s')"
   ]
  },
  {
   "cell_type": "markdown",
   "id": "8895cc12-8440-4ac1-a557-c6fe0dab39d3",
   "metadata": {},
   "source": [
    "# 6 #"
   ]
  },
  {
   "cell_type": "code",
   "execution_count": 7,
   "id": "3a2dcb20-fe77-4a71-8a23-b4a211af3c9c",
   "metadata": {},
   "outputs": [],
   "source": [
    "A = np.array([[6, 2, 1, -1],\n",
    "             [2, 4, 1, 0],\n",
    "             [1, 1, 4, -1],\n",
    "             [-1, 0, -1, 3]])"
   ]
  },
  {
   "cell_type": "code",
   "execution_count": 8,
   "id": "61ea2371-3eba-44bf-a64e-281cd5835bde",
   "metadata": {},
   "outputs": [],
   "source": [
    "def LU(A, tol=1e-8):\n",
    "    n = A.shape[0]\n",
    "    L, U = np.zeros((n, n)), np.zeros((n, n))\n",
    "    \n",
    "    U[0, :] = A[0, :]\n",
    "    \n",
    "    if abs(U[0, 0]) < tol:\n",
    "        raise ValueError('Pivot < tolerance')\n",
    "    L[1:, 0] = A[1:, 0] / U[0, 0]\n",
    "    L[range(n), range(n)] = 1\n",
    "    \n",
    "    for i in range(1, n):\n",
    "        for j in range(i):\n",
    "            if abs(U[j, j]) < tol:\n",
    "                raise ValueError('Pivot < tolerance')\n",
    "            L[i, j] = (A[i, j] - sum(L[i, 0:j] * U[0:j, j])) / U[j, j]\n",
    "        for j in range(i, n):\n",
    "            U[i, j] = A[i, j] - sum(L[i, 0:i] * U[0:i, j])\n",
    "    return L, U"
   ]
  },
  {
   "cell_type": "code",
   "execution_count": 9,
   "id": "84fef7d1-e5ce-412b-bb7c-1706c18a3ed6",
   "metadata": {},
   "outputs": [
    {
     "data": {
      "text/plain": [
       "(array([[ 1.        ,  0.        ,  0.        ,  0.        ],\n",
       "        [ 0.33333333,  1.        ,  0.        ,  0.        ],\n",
       "        [ 0.16666667,  0.2       ,  1.        ,  0.        ],\n",
       "        [-0.16666667,  0.1       , -0.24324324,  1.        ]]),\n",
       " array([[ 6.        ,  2.        ,  1.        , -1.        ],\n",
       "        [ 0.        ,  3.33333333,  0.66666667,  0.33333333],\n",
       "        [ 0.        ,  0.        ,  3.7       , -0.9       ],\n",
       "        [ 0.        ,  0.        ,  0.        ,  2.58108108]]),\n",
       " array([[ 6.00000000e+00,  2.00000000e+00,  1.00000000e+00,\n",
       "         -1.00000000e+00],\n",
       "        [ 2.00000000e+00,  4.00000000e+00,  1.00000000e+00,\n",
       "          0.00000000e+00],\n",
       "        [ 1.00000000e+00,  1.00000000e+00,  4.00000000e+00,\n",
       "         -1.00000000e+00],\n",
       "        [-1.00000000e+00,  5.55111512e-18, -1.00000000e+00,\n",
       "          3.00000000e+00]]))"
      ]
     },
     "execution_count": 9,
     "metadata": {},
     "output_type": "execute_result"
    }
   ],
   "source": [
    "L, U = LU(A)\n",
    "L, U, L @ U"
   ]
  },
  {
   "cell_type": "code",
   "execution_count": 10,
   "id": "808d3e55-0cac-4c77-b7e2-eb53c9d52c05",
   "metadata": {},
   "outputs": [
    {
     "name": "stdout",
     "output_type": "stream",
     "text": [
      "100: 0.038565635681152344s\n",
      "200: 0.2343449592590332s\n",
      "400: 1.5185654163360596s\n",
      "800: 10.984285831451416s\n"
     ]
    }
   ],
   "source": [
    "sizes = [100, 200, 400, 800]\n",
    "\n",
    "for n in sizes:\n",
    "    rA = np.random.uniform(-10, 10, (n, n))\n",
    "\n",
    "    start = time.time()\n",
    "    LU(rA)\n",
    "    end = time.time()\n",
    "\n",
    "    print(f'{n}: {end - start}s')"
   ]
  },
  {
   "cell_type": "code",
   "execution_count": null,
   "id": "e651149b-e0dd-4931-9a9d-7d76ff15f7bb",
   "metadata": {},
   "outputs": [],
   "source": []
  }
 ],
 "metadata": {
  "kernelspec": {
   "display_name": "Python 3 (ipykernel)",
   "language": "python",
   "name": "python3"
  },
  "language_info": {
   "codemirror_mode": {
    "name": "ipython",
    "version": 3
   },
   "file_extension": ".py",
   "mimetype": "text/x-python",
   "name": "python",
   "nbconvert_exporter": "python",
   "pygments_lexer": "ipython3",
   "version": "3.10.10"
  }
 },
 "nbformat": 4,
 "nbformat_minor": 5
}
