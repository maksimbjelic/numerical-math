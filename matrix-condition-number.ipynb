{
 "cells": [
  {
   "cell_type": "code",
   "execution_count": 1,
   "id": "d25490b7-b901-453a-83a5-d1f973e5963a",
   "metadata": {},
   "outputs": [],
   "source": [
    "import math\n",
    "import numpy as np\n",
    "import scipy as sp\n",
    "import time\n",
    "import matplotlib.pyplot as plt\n",
    "import random"
   ]
  },
  {
   "cell_type": "markdown",
   "id": "f119e491-0e00-43ca-9fd7-206d0dedfc6d",
   "metadata": {},
   "source": [
    "# 2 #"
   ]
  },
  {
   "cell_type": "code",
   "execution_count": 2,
   "id": "2886043d-8bfa-4e9e-87f1-2da259b6068e",
   "metadata": {},
   "outputs": [
    {
     "name": "stdout",
     "output_type": "stream",
     "text": [
      "4.819013255790991e-12 ; condition:  476607.2502419338\n",
      "3.881391933470902e-05 ; condition:  16024980732174.455\n",
      "24.79372203750042 ; condition:  6.806966421072721e+18\n"
     ]
    }
   ],
   "source": [
    "n = [5, 10, 20]\n",
    "\n",
    "for i in n:\n",
    "    H = sp.linalg.hilbert(i)\n",
    "    H_inv = np.linalg.inv(H)\n",
    "    e = np.ones(i)\n",
    "    \n",
    "    v = H @ (H_inv @ e) - e\n",
    "    print(np.linalg.norm(v, 2), '; condition: ', np.linalg.cond(H, p=2))"
   ]
  },
  {
   "cell_type": "markdown",
   "id": "7ca27622-18a3-4d3e-95c2-c4872332f3cb",
   "metadata": {},
   "source": [
    "# 3 #"
   ]
  },
  {
   "cell_type": "code",
   "execution_count": 3,
   "id": "7556db7d-6145-429f-bbd9-d18418900f97",
   "metadata": {},
   "outputs": [],
   "source": [
    "def norm1(A):\n",
    "    return max(np.sum(abs(A), axis=0))\n",
    "def norm_inf(A):\n",
    "    return max(np.sum(abs(A), axis=1))"
   ]
  },
  {
   "cell_type": "code",
   "execution_count": 4,
   "id": "d377b137-299d-48aa-b282-9de7f668a918",
   "metadata": {},
   "outputs": [
    {
     "name": "stdout",
     "output_type": "stream",
     "text": [
      "7 8\n",
      "7.0 8.0\n"
     ]
    }
   ],
   "source": [
    "A = np.array([[1, 2], [6, -2]])\n",
    "print(norm1(A), norm_inf(A))\n",
    "print(np.linalg.norm(A, 1), np.linalg.norm(A, np.inf))"
   ]
  },
  {
   "cell_type": "code",
   "execution_count": 5,
   "id": "4fed71d3-8bcc-4a65-ad63-23b9547d2337",
   "metadata": {},
   "outputs": [
    {
     "data": {
      "text/plain": [
       "array([  100,   200,   400,   800,  1600,  3200,  6400, 12800])"
      ]
     },
     "execution_count": 5,
     "metadata": {},
     "output_type": "execute_result"
    }
   ],
   "source": [
    "n = 100 * 2 ** np.arange(8)\n",
    "n"
   ]
  },
  {
   "cell_type": "code",
   "execution_count": 6,
   "id": "5237a524-cd61-457a-88bf-2332c42803eb",
   "metadata": {},
   "outputs": [],
   "source": [
    "my_t = []\n",
    "py_t = []\n",
    "\n",
    "for i in n:\n",
    "    A = np.random.rand(i, i)\n",
    "\n",
    "    start = time.time()\n",
    "    norm_inf(A)\n",
    "    end = time.time()\n",
    "\n",
    "    my_t.append(end - start)\n",
    "\n",
    "    start = time.time()\n",
    "    np.linalg.norm(A, np.inf)\n",
    "    end = time.time()\n",
    "\n",
    "    py_t.append(end - start)\n",
    "my_t = np.array(my_t)\n",
    "py_t = np.array(py_t)"
   ]
  },
  {
   "cell_type": "code",
   "execution_count": 7,
   "id": "8c417281-7e4a-4bdf-a36f-ce31cebac008",
   "metadata": {},
   "outputs": [
    {
     "name": "stdout",
     "output_type": "stream",
     "text": [
      "[8.79764557e-05 1.59740448e-04 5.85317612e-04 1.93953514e-03\n",
      " 8.35084915e-03 3.37314606e-02 1.32076025e-01 5.25599003e-01]\n"
     ]
    }
   ],
   "source": [
    "print(my_t)"
   ]
  },
  {
   "cell_type": "code",
   "execution_count": 8,
   "id": "a94b432b-96db-4ca0-9fac-075264d052ac",
   "metadata": {},
   "outputs": [
    {
     "name": "stdout",
     "output_type": "stream",
     "text": [
      "[2.81333923e-05 4.00543213e-05 1.79767609e-04 1.46627426e-03\n",
      " 6.52408600e-03 3.32775116e-02 1.30890131e-01 5.23015499e-01]\n"
     ]
    }
   ],
   "source": [
    "print(py_t)"
   ]
  },
  {
   "cell_type": "code",
   "execution_count": 9,
   "id": "b11bbd50-6f13-4fc6-9a6d-09b0e0cb353c",
   "metadata": {},
   "outputs": [
    {
     "data": {
      "image/png": "[encoded data removed]",
      "text/plain": [
       "<Figure size 640x480 with 1 Axes>"
      ]
     },
     "metadata": {},
     "output_type": "display_data"
    }
   ],
   "source": [
    "fig, ax = plt.subplots()\n",
    "ax.plot(n, my_t, label='my time')\n",
    "ax.plot(n, py_t, label='python time')\n",
    "\n",
    "ax.grid('on')\n",
    "ax.legend()\n",
    "plt.show()"
   ]
  },
  {
   "cell_type": "code",
   "execution_count": 10,
   "id": "4015044a-6375-4e88-9542-f6124ce286af",
   "metadata": {},
   "outputs": [
    {
     "data": {
      "text/plain": [
       "array([3.12711864, 3.98809524, 3.25596817, 1.32276423, 1.28000292,\n",
       "       1.01364131, 1.00906022, 1.00493963])"
      ]
     },
     "execution_count": 10,
     "metadata": {},
     "output_type": "execute_result"
    }
   ],
   "source": [
    "r = my_t / py_t\n",
    "r"
   ]
  },
  {
   "cell_type": "code",
   "execution_count": 11,
   "id": "0749c403-afbd-4051-b155-2e5f5b0559a2",
   "metadata": {},
   "outputs": [
    {
     "name": "stdout",
     "output_type": "stream",
     "text": [
      "2.000198796613441\n"
     ]
    }
   ],
   "source": [
    "print(sum(r) / len(r))"
   ]
  },
  {
   "cell_type": "code",
   "execution_count": 12,
   "id": "8fc7cd9c-0ae2-4c9b-93a4-18b3869f4557",
   "metadata": {},
   "outputs": [
    {
     "name": "stdout",
     "output_type": "stream",
     "text": [
      "[1.81571816 3.6641791  3.31364562 4.30559312 4.0392851  3.91551456\n",
      " 3.97951864] \n",
      " [1.42372881 4.48809524 8.15649867 4.44943089 5.10071627 3.93329082\n",
      " 3.99583601]\n"
     ]
    }
   ],
   "source": [
    "print(my_t[1:] / my_t[:-1], '\\n', py_t[1:] / py_t[:-1])"
   ]
  },
  {
   "cell_type": "markdown",
   "id": "3e8f5092-f8a8-4398-979d-0dc49fd5c37b",
   "metadata": {},
   "source": [
    "# 4 #"
   ]
  },
  {
   "cell_type": "code",
   "execution_count": 13,
   "id": "a056db89-0b33-4eef-80f8-909d86f8f550",
   "metadata": {},
   "outputs": [],
   "source": [
    "def mat(phi):\n",
    "    return np.array([[1, 0], [np.cos(phi), np.sin(phi)]])"
   ]
  },
  {
   "cell_type": "code",
   "execution_count": 14,
   "id": "1b5396e7-6119-4775-87f2-bcb8d03e15be",
   "metadata": {},
   "outputs": [
    {
     "data": {
      "image/png": "[encoded data removed]",
      "text/plain": [
       "<Figure size 640x480 with 2 Axes>"
      ]
     },
     "metadata": {},
     "output_type": "display_data"
    }
   ],
   "source": [
    "phi = np.linspace(0, 2 * math.pi, 100)\n",
    "phi = phi[1:-1]\n",
    "\n",
    "k1 = []\n",
    "k_inf = []\n",
    "k2 = []\n",
    "for i in phi:\n",
    "    k1.append(np.linalg.cond(mat(i), p=1))\n",
    "    k_inf.append(np.linalg.cond(mat(i), p=np.inf))\n",
    "    k2.append(np.linalg.cond(mat(i), p=2))\n",
    "\n",
    "fig, ax = plt.subplots(1, 2)\n",
    "ax[0].plot(phi, k1, label='$K_1$')\n",
    "ax[0].plot(phi, k_inf, label='$K_\\infty$')\n",
    "ax[0].plot(phi, k2, label='$K_2$')\n",
    "\n",
    "ax[0].grid('on')\n",
    "ax[0].legend()\n",
    "\n",
    "k = (1 + abs(np.cos(phi))) * (abs(np.cos(phi)) + abs(np.sin(phi))) / abs(np.sin(phi))\n",
    "kt = math.sqrt(2) * np.maximum(abs(np.cos(phi / 2)), abs(np.sin(phi / 2))) * np.sqrt(1 + abs(np.cos(phi))) / abs(np.sin(phi))\n",
    "ax[1].plot(phi, k, label='$K_1$')\n",
    "ax[1].plot(phi, k, label='$K_\\infty$')\n",
    "ax[1].plot(phi, kt, label='$K_2$')\n",
    "\n",
    "ax[1].grid('on')\n",
    "ax[1].legend()\n",
    "\n",
    "plt.show()"
   ]
  },
  {
   "cell_type": "code",
   "execution_count": 15,
   "id": "5baa6c50-d2ff-4d40-b274-d9b26492e1ee",
   "metadata": {},
   "outputs": [
    {
     "name": "stdout",
     "output_type": "stream",
     "text": [
      "1.4210854715202004e-14 1.4210854715202004e-14 7.105427357601002e-15\n"
     ]
    }
   ],
   "source": [
    "print(max(abs(k2 - kt)), max(abs(k_inf - k)), max(abs(k1 - k)))"
   ]
  },
  {
   "cell_type": "code",
   "execution_count": 16,
   "id": "4c37931b-c39c-4f6d-8ff3-5d95b6117d31",
   "metadata": {},
   "outputs": [],
   "source": [
    "phi  = 1e-2\n",
    "A = mat(phi)\n",
    "A_inv = np.linalg.inv(A)\n",
    "b = np.array([1, 1])"
   ]
  },
  {
   "cell_type": "code",
   "execution_count": 17,
   "id": "5d7f306c-c963-4575-9f0d-9256b140eb01",
   "metadata": {},
   "outputs": [
    {
     "name": "stdout",
     "output_type": "stream",
     "text": [
      "1.009949833750832 1.0 201.98828349763807\n"
     ]
    }
   ],
   "source": [
    "normA = np.linalg.norm(A, np.inf)\n",
    "normA_inv = np.linalg.norm(A_inv, np.inf)\n",
    "normb = np.linalg.norm(b, np.inf)\n",
    "k = normA * normA_inv\n",
    "print(normA, normb, k)"
   ]
  },
  {
   "cell_type": "code",
   "execution_count": 18,
   "id": "d1717789-a24d-4c4b-a179-faee6d429be7",
   "metadata": {},
   "outputs": [
    {
     "data": {
      "text/plain": [
       "(np.float64(0.0005471732411069199),\n",
       " array([[-0.00011775, -0.00018958],\n",
       "        [-0.00017104, -0.00037614]]),\n",
       " array([0.00023627, 0.00018095]))"
      ]
     },
     "execution_count": 18,
     "metadata": {},
     "output_type": "execute_result"
    }
   ],
   "source": [
    "delta = 1e-3 # dA/A<delta => dA<A*delta\n",
    "epsA = random.uniform(delta / 2, delta) * normA\n",
    "epsb = delta * normb\n",
    "dA = np.random.uniform(low=-1, high=1, size=(2, 2))\n",
    "dA = dA / np.linalg.norm(dA, np.inf) * epsA\n",
    "db = np.random.uniform(low=-epsb, high=epsb, size=(2,))\n",
    "epsA, dA, db"
   ]
  },
  {
   "cell_type": "code",
   "execution_count": 19,
   "id": "1a8baa25-c14f-421b-9337-c4f97970f6a9",
   "metadata": {},
   "outputs": [
    {
     "data": {
      "text/plain": [
       "(array([1.        , 0.00500004]), array([1.00035499, 0.00489197]))"
      ]
     },
     "execution_count": 19,
     "metadata": {},
     "output_type": "execute_result"
    }
   ],
   "source": [
    "_A = A + dA\n",
    "_b = b + db\n",
    "\n",
    "x = A_inv @ b\n",
    "_x = np.linalg.inv(_A) @ _b\n",
    "x, _x"
   ]
  },
  {
   "cell_type": "code",
   "execution_count": 20,
   "id": "e5603042-49d4-42ef-b5c5-77df8822f922",
   "metadata": {},
   "outputs": [
    {
     "data": {
      "text/plain": [
       "(np.float64(0.0005417825943639046), np.float64(0.00023626955978085632))"
      ]
     },
     "execution_count": 20,
     "metadata": {},
     "output_type": "execute_result"
    }
   ],
   "source": [
    "relx = np.linalg.norm(x - _x, np.inf) / np.linalg.norm(x, np.inf)\n",
    "relb = np.linalg.norm(db, np.inf) / normb\n",
    "relA = np.linalg.norm(dA, np.inf) / normA\n",
    "relA, relb"
   ]
  },
  {
   "cell_type": "code",
   "execution_count": 21,
   "id": "fbd0cfee-a1cf-4aa5-b91f-08d6257059f9",
   "metadata": {},
   "outputs": [
    {
     "name": "stdout",
     "output_type": "stream",
     "text": [
      "0.00035498860915117447 0.17646909105688893 0.5062288668716313\n"
     ]
    }
   ],
   "source": [
    "bound1 = k / (1 - k * relA) * (relb + relA)\n",
    "bound2 = k / (1 - k * delta) * 2 * delta\n",
    "print(relx, bound1, bound2)"
   ]
  },
  {
   "cell_type": "code",
   "execution_count": 22,
   "id": "33e7dc88-030d-4a73-b5db-d12a204a249f",
   "metadata": {},
   "outputs": [
    {
     "name": "stdout",
     "output_type": "stream",
     "text": [
      "0.0005471732411069199 0.005000041667083337 True\n"
     ]
    }
   ],
   "source": [
    "print(np.linalg.norm(dA, np.inf), 1 / normA_inv, np.linalg.norm(dA, np.inf) < 1 / normA_inv)"
   ]
  },
  {
   "cell_type": "code",
   "execution_count": 23,
   "id": "0cd43efc-e0de-45ca-ab0f-259b5cf114b9",
   "metadata": {},
   "outputs": [
    {
     "name": "stdout",
     "output_type": "stream",
     "text": [
      "0.28252172938030484 0.5062288668716313\n"
     ]
    }
   ],
   "source": [
    "t = 1000\n",
    "\n",
    "maxrel = 0\n",
    "for i in range(t):\n",
    "    dA = np.random.uniform(low=-epsA, high=epsA, size=(2, 2))\n",
    "    db = np.random.uniform(low=-epsb, high=epsb, size=(2,))\n",
    "\n",
    "    _A = A + dA\n",
    "    _b = b + db\n",
    "\n",
    "    x = np.linalg.inv(A) @ b\n",
    "    _x = np.linalg.inv(_A) @ _b\n",
    "\n",
    "    relx = np.linalg.norm(x - _x, np.inf) / np.linalg.norm(x, np.inf)\n",
    "    relb = np.linalg.norm(db, np.inf) / normb\n",
    "    relA = np.linalg.norm(dA, np.inf) / normA\n",
    "\n",
    "    bound = k / (1 - k * relA) * (relb + relA)\n",
    "    bound = bound\n",
    "\n",
    "    if relx > bound:\n",
    "        print('Error')\n",
    "    maxrel = max(maxrel, relx)\n",
    "\n",
    "bound2 = k / (1 - k * delta) * 2 * delta\n",
    "print(maxrel, bound2)"
   ]
  },
  {
   "cell_type": "code",
   "execution_count": null,
   "id": "e59c2716-3884-4b18-97c0-9dae5722cbc6",
   "metadata": {},
   "outputs": [],
   "source": []
  }
 ],
 "metadata": {
  "kernelspec": {
   "display_name": "Python 3 (ipykernel)",
   "language": "python",
   "name": "python3"
  },
  "language_info": {
   "codemirror_mode": {
    "name": "ipython",
    "version": 3
   },
   "file_extension": ".py",
   "mimetype": "text/x-python",
   "name": "python",
   "nbconvert_exporter": "python",
   "pygments_lexer": "ipython3",
   "version": "3.10.10"
  }
 },
 "nbformat": 4,
 "nbformat_minor": 5
}
